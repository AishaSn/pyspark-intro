{
  "nbformat": 4,
  "nbformat_minor": 0,
  "metadata": {
    "colab": {
      "provenance": []
    },
    "kernelspec": {
      "name": "python3",
      "display_name": "Python 3"
    },
    "language_info": {
      "name": "python"
    }
  },
  "cells": [
    {
      "cell_type": "code",
      "execution_count": null,
      "metadata": {
        "colab": {
          "base_uri": "https://localhost:8080/"
        },
        "id": "WeurgnOH6CPW",
        "outputId": "e06d0d64-4234-4a54-895a-29832b71938b"
      },
      "outputs": [
        {
          "output_type": "stream",
          "name": "stdout",
          "text": [
            "Reading package lists... Done\n",
            "Building dependency tree... Done\n",
            "Reading state information... Done\n",
            "The following additional packages will be installed:\n",
            "  fonts-dejavu-core fonts-dejavu-extra libatk-wrapper-java\n",
            "  libatk-wrapper-java-jni libxt-dev libxtst6 libxxf86dga1 openjdk-11-jre\n",
            "  x11-utils\n",
            "Suggested packages:\n",
            "  libxt-doc openjdk-11-demo openjdk-11-source visualvm mesa-utils\n",
            "The following NEW packages will be installed:\n",
            "  fonts-dejavu-core fonts-dejavu-extra libatk-wrapper-java\n",
            "  libatk-wrapper-java-jni libxt-dev libxtst6 libxxf86dga1 openjdk-11-jdk\n",
            "  openjdk-11-jre x11-utils\n",
            "0 upgraded, 10 newly installed, 0 to remove and 35 not upgraded.\n",
            "Need to get 6,920 kB of archives.\n",
            "After this operation, 16.9 MB of additional disk space will be used.\n",
            "Get:1 http://archive.ubuntu.com/ubuntu jammy/main amd64 fonts-dejavu-core all 2.37-2build1 [1,041 kB]\n",
            "Get:2 http://archive.ubuntu.com/ubuntu jammy/main amd64 fonts-dejavu-extra all 2.37-2build1 [2,041 kB]\n",
            "Get:3 http://archive.ubuntu.com/ubuntu jammy/main amd64 libxtst6 amd64 2:1.2.3-1build4 [13.4 kB]\n",
            "Get:4 http://archive.ubuntu.com/ubuntu jammy/main amd64 libxxf86dga1 amd64 2:1.1.5-0ubuntu3 [12.6 kB]\n",
            "Get:5 http://archive.ubuntu.com/ubuntu jammy/main amd64 x11-utils amd64 7.7+5build2 [206 kB]\n",
            "Get:6 http://archive.ubuntu.com/ubuntu jammy/main amd64 libatk-wrapper-java all 0.38.0-5build1 [53.1 kB]\n",
            "Get:7 http://archive.ubuntu.com/ubuntu jammy/main amd64 libatk-wrapper-java-jni amd64 0.38.0-5build1 [49.0 kB]\n",
            "Get:8 http://archive.ubuntu.com/ubuntu jammy/main amd64 libxt-dev amd64 1:1.2.1-1 [396 kB]\n",
            "Get:9 http://archive.ubuntu.com/ubuntu jammy-updates/main amd64 openjdk-11-jre amd64 11.0.27+6~us1-0ubuntu1~22.04 [214 kB]\n",
            "Get:10 http://archive.ubuntu.com/ubuntu jammy-updates/main amd64 openjdk-11-jdk amd64 11.0.27+6~us1-0ubuntu1~22.04 [2,895 kB]\n",
            "Fetched 6,920 kB in 0s (15.1 MB/s)\n",
            "Selecting previously unselected package fonts-dejavu-core.\n",
            "(Reading database ... 126308 files and directories currently installed.)\n",
            "Preparing to unpack .../0-fonts-dejavu-core_2.37-2build1_all.deb ...\n",
            "Unpacking fonts-dejavu-core (2.37-2build1) ...\n",
            "Selecting previously unselected package fonts-dejavu-extra.\n",
            "Preparing to unpack .../1-fonts-dejavu-extra_2.37-2build1_all.deb ...\n",
            "Unpacking fonts-dejavu-extra (2.37-2build1) ...\n",
            "Selecting previously unselected package libxtst6:amd64.\n",
            "Preparing to unpack .../2-libxtst6_2%3a1.2.3-1build4_amd64.deb ...\n",
            "Unpacking libxtst6:amd64 (2:1.2.3-1build4) ...\n",
            "Selecting previously unselected package libxxf86dga1:amd64.\n",
            "Preparing to unpack .../3-libxxf86dga1_2%3a1.1.5-0ubuntu3_amd64.deb ...\n",
            "Unpacking libxxf86dga1:amd64 (2:1.1.5-0ubuntu3) ...\n",
            "Selecting previously unselected package x11-utils.\n",
            "Preparing to unpack .../4-x11-utils_7.7+5build2_amd64.deb ...\n",
            "Unpacking x11-utils (7.7+5build2) ...\n",
            "Selecting previously unselected package libatk-wrapper-java.\n",
            "Preparing to unpack .../5-libatk-wrapper-java_0.38.0-5build1_all.deb ...\n",
            "Unpacking libatk-wrapper-java (0.38.0-5build1) ...\n",
            "Selecting previously unselected package libatk-wrapper-java-jni:amd64.\n",
            "Preparing to unpack .../6-libatk-wrapper-java-jni_0.38.0-5build1_amd64.deb ...\n",
            "Unpacking libatk-wrapper-java-jni:amd64 (0.38.0-5build1) ...\n",
            "Selecting previously unselected package libxt-dev:amd64.\n",
            "Preparing to unpack .../7-libxt-dev_1%3a1.2.1-1_amd64.deb ...\n",
            "Unpacking libxt-dev:amd64 (1:1.2.1-1) ...\n",
            "Selecting previously unselected package openjdk-11-jre:amd64.\n",
            "Preparing to unpack .../8-openjdk-11-jre_11.0.27+6~us1-0ubuntu1~22.04_amd64.deb ...\n",
            "Unpacking openjdk-11-jre:amd64 (11.0.27+6~us1-0ubuntu1~22.04) ...\n",
            "Selecting previously unselected package openjdk-11-jdk:amd64.\n",
            "Preparing to unpack .../9-openjdk-11-jdk_11.0.27+6~us1-0ubuntu1~22.04_amd64.deb ...\n",
            "Unpacking openjdk-11-jdk:amd64 (11.0.27+6~us1-0ubuntu1~22.04) ...\n",
            "Setting up libxtst6:amd64 (2:1.2.3-1build4) ...\n",
            "Setting up libxxf86dga1:amd64 (2:1.1.5-0ubuntu3) ...\n",
            "Setting up openjdk-11-jre:amd64 (11.0.27+6~us1-0ubuntu1~22.04) ...\n",
            "Setting up libxt-dev:amd64 (1:1.2.1-1) ...\n",
            "Setting up fonts-dejavu-core (2.37-2build1) ...\n",
            "Setting up fonts-dejavu-extra (2.37-2build1) ...\n",
            "Setting up x11-utils (7.7+5build2) ...\n",
            "Setting up openjdk-11-jdk:amd64 (11.0.27+6~us1-0ubuntu1~22.04) ...\n",
            "update-alternatives: using /usr/lib/jvm/java-11-openjdk-amd64/bin/jconsole to provide /usr/bin/jconsole (jconsole) in auto mode\n",
            "Setting up libatk-wrapper-java (0.38.0-5build1) ...\n",
            "Setting up libatk-wrapper-java-jni:amd64 (0.38.0-5build1) ...\n",
            "Processing triggers for fontconfig (2.13.1-4.2ubuntu5) ...\n",
            "Processing triggers for hicolor-icon-theme (0.17-2) ...\n",
            "Processing triggers for libc-bin (2.35-0ubuntu3.8) ...\n",
            "/sbin/ldconfig.real: /usr/local/lib/libtbb.so.12 is not a symbolic link\n",
            "\n",
            "/sbin/ldconfig.real: /usr/local/lib/libhwloc.so.15 is not a symbolic link\n",
            "\n",
            "/sbin/ldconfig.real: /usr/local/lib/libtbbbind_2_5.so.3 is not a symbolic link\n",
            "\n",
            "/sbin/ldconfig.real: /usr/local/lib/libtcm_debug.so.1 is not a symbolic link\n",
            "\n",
            "/sbin/ldconfig.real: /usr/local/lib/libur_adapter_opencl.so.0 is not a symbolic link\n",
            "\n",
            "/sbin/ldconfig.real: /usr/local/lib/libtcm.so.1 is not a symbolic link\n",
            "\n",
            "/sbin/ldconfig.real: /usr/local/lib/libur_adapter_level_zero.so.0 is not a symbolic link\n",
            "\n",
            "/sbin/ldconfig.real: /usr/local/lib/libumf.so.0 is not a symbolic link\n",
            "\n",
            "/sbin/ldconfig.real: /usr/local/lib/libtbbmalloc.so.2 is not a symbolic link\n",
            "\n",
            "/sbin/ldconfig.real: /usr/local/lib/libtbbbind.so.3 is not a symbolic link\n",
            "\n",
            "/sbin/ldconfig.real: /usr/local/lib/libtbbmalloc_proxy.so.2 is not a symbolic link\n",
            "\n",
            "/sbin/ldconfig.real: /usr/local/lib/libtbbbind_2_0.so.3 is not a symbolic link\n",
            "\n",
            "/sbin/ldconfig.real: /usr/local/lib/libur_loader.so.0 is not a symbolic link\n",
            "\n",
            "Processing triggers for man-db (2.10.2-1) ...\n",
            "Processing triggers for mailcap (3.70+nmu1ubuntu1) ...\n"
          ]
        }
      ],
      "source": [
        "!apt-get install openjdk-11-jdk -y\n",
        "!wget -q https://archive.apache.org/dist/spark/spark-3.5.1/spark-3.5.1-bin-hadoop3.tgz\n",
        "!tar xf spark-3.5.1-bin-hadoop3.tgz\n",
        "!pip install -q findspark pyspark"
      ]
    },
    {
      "cell_type": "code",
      "source": [
        "import os\n",
        "os.environ[\"JAVA_HOME\"] = \"/usr/lib/jvm/java-11-openjdk-amd64\"\n",
        "os.environ[\"SPARK_HOME\"] = \"/content/spark-3.5.1-bin-hadoop3\""
      ],
      "metadata": {
        "id": "-yw6WWeQ6Zvd"
      },
      "execution_count": null,
      "outputs": []
    },
    {
      "cell_type": "code",
      "source": [
        "import findspark\n",
        "findspark.init()"
      ],
      "metadata": {
        "id": "pDc24tM76cCd"
      },
      "execution_count": null,
      "outputs": []
    },
    {
      "cell_type": "code",
      "source": [
        "from pyspark.sql import SparkSession\n",
        "spark = SparkSession.builder.appName(\"ColabPySpark\").getOrCreate()"
      ],
      "metadata": {
        "id": "fLT6aNzn6e_F"
      },
      "execution_count": null,
      "outputs": []
    },
    {
      "cell_type": "code",
      "source": [
        "data = [(1, \"Apple\", 100),\n",
        "        (2, \"Banana\", 30),\n",
        "        (3, \"Orange\", 70)]\n",
        "\n",
        "df = spark.createDataFrame(data, [\"id\", \"fruit\", \"price\"])\n",
        "df.show()"
      ],
      "metadata": {
        "id": "UZlUhwPN7vU0",
        "outputId": "a5dba97b-3c9c-496d-d296-90ed15ec32e8",
        "colab": {
          "base_uri": "https://localhost:8080/"
        }
      },
      "execution_count": null,
      "outputs": [
        {
          "output_type": "stream",
          "name": "stdout",
          "text": [
            "+---+------+-----+\n",
            "| id| fruit|price|\n",
            "+---+------+-----+\n",
            "|  1| Apple|  100|\n",
            "|  2|Banana|   30|\n",
            "|  3|Orange|   70|\n",
            "+---+------+-----+\n",
            "\n"
          ]
        }
      ]
    },
    {
      "cell_type": "code",
      "source": [
        "!wget -O titanic.csv https://raw.githubusercontent.com/datasciencedojo/datasets/master/titanic.csv"
      ],
      "metadata": {
        "id": "L1_Y6RF470dT",
        "outputId": "34a73251-2e6a-47e9-fa7e-d5a8df748565",
        "colab": {
          "base_uri": "https://localhost:8080/"
        }
      },
      "execution_count": null,
      "outputs": [
        {
          "output_type": "stream",
          "name": "stdout",
          "text": [
            "--2025-06-25 07:23:31--  https://raw.githubusercontent.com/datasciencedojo/datasets/master/titanic.csv\n",
            "Resolving raw.githubusercontent.com (raw.githubusercontent.com)... 185.199.110.133, 185.199.108.133, 185.199.111.133, ...\n",
            "Connecting to raw.githubusercontent.com (raw.githubusercontent.com)|185.199.110.133|:443... connected.\n",
            "HTTP request sent, awaiting response... 200 OK\n",
            "Length: 60302 (59K) [text/plain]\n",
            "Saving to: ‘titanic.csv’\n",
            "\n",
            "\rtitanic.csv           0%[                    ]       0  --.-KB/s               \rtitanic.csv         100%[===================>]  58.89K  --.-KB/s    in 0.01s   \n",
            "\n",
            "2025-06-25 07:23:31 (4.15 MB/s) - ‘titanic.csv’ saved [60302/60302]\n",
            "\n"
          ]
        }
      ]
    },
    {
      "cell_type": "code",
      "source": [
        "df = spark.read.csv(\"titanic.csv\", header=True, inferSchema=True)\n",
        "df.printSchema()\n",
        "df.show(5)"
      ],
      "metadata": {
        "colab": {
          "base_uri": "https://localhost:8080/"
        },
        "id": "osjrDA0w9CNn",
        "outputId": "c5146134-d7c1-43ac-be49-1de597ff50bb"
      },
      "execution_count": null,
      "outputs": [
        {
          "output_type": "stream",
          "name": "stdout",
          "text": [
            "root\n",
            " |-- PassengerId: integer (nullable = true)\n",
            " |-- Survived: integer (nullable = true)\n",
            " |-- Pclass: integer (nullable = true)\n",
            " |-- Name: string (nullable = true)\n",
            " |-- Sex: string (nullable = true)\n",
            " |-- Age: double (nullable = true)\n",
            " |-- SibSp: integer (nullable = true)\n",
            " |-- Parch: integer (nullable = true)\n",
            " |-- Ticket: string (nullable = true)\n",
            " |-- Fare: double (nullable = true)\n",
            " |-- Cabin: string (nullable = true)\n",
            " |-- Embarked: string (nullable = true)\n",
            "\n",
            "+-----------+--------+------+--------------------+------+----+-----+-----+----------------+-------+-----+--------+\n",
            "|PassengerId|Survived|Pclass|                Name|   Sex| Age|SibSp|Parch|          Ticket|   Fare|Cabin|Embarked|\n",
            "+-----------+--------+------+--------------------+------+----+-----+-----+----------------+-------+-----+--------+\n",
            "|          1|       0|     3|Braund, Mr. Owen ...|  male|22.0|    1|    0|       A/5 21171|   7.25| NULL|       S|\n",
            "|          2|       1|     1|Cumings, Mrs. Joh...|female|38.0|    1|    0|        PC 17599|71.2833|  C85|       C|\n",
            "|          3|       1|     3|Heikkinen, Miss. ...|female|26.0|    0|    0|STON/O2. 3101282|  7.925| NULL|       S|\n",
            "|          4|       1|     1|Futrelle, Mrs. Ja...|female|35.0|    1|    0|          113803|   53.1| C123|       S|\n",
            "|          5|       0|     3|Allen, Mr. Willia...|  male|35.0|    0|    0|          373450|   8.05| NULL|       S|\n",
            "+-----------+--------+------+--------------------+------+----+-----+-----+----------------+-------+-----+--------+\n",
            "only showing top 5 rows\n",
            "\n"
          ]
        }
      ]
    },
    {
      "cell_type": "code",
      "source": [
        "#Select and Filter\n",
        "df.select(\"Name\", \"Age\", \"Sex\", \"Survived\").filter(\"Age > 50\").show(5)"
      ],
      "metadata": {
        "colab": {
          "base_uri": "https://localhost:8080/"
        },
        "id": "j17EkCoo9Edd",
        "outputId": "927b8f46-8dca-44ab-d819-09e75f0ff770"
      },
      "execution_count": null,
      "outputs": [
        {
          "output_type": "stream",
          "name": "stdout",
          "text": [
            "+--------------------+----+------+--------+\n",
            "|                Name| Age|   Sex|Survived|\n",
            "+--------------------+----+------+--------+\n",
            "|McCarthy, Mr. Tim...|54.0|  male|       0|\n",
            "|Bonnell, Miss. El...|58.0|female|       1|\n",
            "|Hewlett, Mrs. (Ma...|55.0|female|       1|\n",
            "|Wheadon, Mr. Edwa...|66.0|  male|       0|\n",
            "|Ostby, Mr. Engelh...|65.0|  male|       0|\n",
            "+--------------------+----+------+--------+\n",
            "only showing top 5 rows\n",
            "\n"
          ]
        }
      ]
    },
    {
      "cell_type": "code",
      "source": [
        "#Group by Gender and Survival\n",
        "df.groupBy(\"Sex\", \"Survived\").count().show()"
      ],
      "metadata": {
        "colab": {
          "base_uri": "https://localhost:8080/"
        },
        "id": "uP9TZfRm9IaT",
        "outputId": "b701dbc2-b47c-4311-acb1-77ccc8f84b5a"
      },
      "execution_count": null,
      "outputs": [
        {
          "output_type": "stream",
          "name": "stdout",
          "text": [
            "+------+--------+-----+\n",
            "|   Sex|Survived|count|\n",
            "+------+--------+-----+\n",
            "|  male|       0|  468|\n",
            "|female|       1|  233|\n",
            "|female|       0|   81|\n",
            "|  male|       1|  109|\n",
            "+------+--------+-----+\n",
            "\n"
          ]
        }
      ]
    },
    {
      "cell_type": "code",
      "source": [
        "#Average Age by Class\n",
        "df.groupBy(\"Pclass\").avg(\"Age\").show()"
      ],
      "metadata": {
        "id": "L7Gr_3Ho9UiM"
      },
      "execution_count": null,
      "outputs": []
    },
    {
      "cell_type": "code",
      "source": [
        "#SQL Example\n",
        "df.createOrReplaceTempView(\"titanic\")\n",
        "spark.sql(\"SELECT Sex, COUNT(*) FROM titanic WHERE Survived = 1 GROUP BY Sex\").show()"
      ],
      "metadata": {
        "colab": {
          "base_uri": "https://localhost:8080/"
        },
        "id": "_GmUWNIh9aGe",
        "outputId": "c0f55e68-736c-407a-cabe-6587fb70a858"
      },
      "execution_count": null,
      "outputs": [
        {
          "output_type": "stream",
          "name": "stdout",
          "text": [
            "+------+--------+\n",
            "|   Sex|count(1)|\n",
            "+------+--------+\n",
            "|female|     233|\n",
            "|  male|     109|\n",
            "+------+--------+\n",
            "\n"
          ]
        }
      ]
    },
    {
      "cell_type": "code",
      "source": [
        "#Missing Data Analysis\n",
        "\n",
        "from pyspark.sql.functions import col, count, when\n",
        "\n",
        "df.select([count(when(col(c).isNull(), c)).alias(c) for c in df.columns]).show()"
      ],
      "metadata": {
        "colab": {
          "base_uri": "https://localhost:8080/"
        },
        "id": "L76Zyk9U-CvR",
        "outputId": "e5a411a9-5420-410b-8cdf-5cb6e7eeb6bd"
      },
      "execution_count": null,
      "outputs": [
        {
          "output_type": "stream",
          "name": "stdout",
          "text": [
            "+-----------+--------+------+----+---+---+-----+-----+------+----+-----+--------+\n",
            "|PassengerId|Survived|Pclass|Name|Sex|Age|SibSp|Parch|Ticket|Fare|Cabin|Embarked|\n",
            "+-----------+--------+------+----+---+---+-----+-----+------+----+-----+--------+\n",
            "|          0|       0|     0|   0|  0|177|    0|    0|     0|   0|  687|       2|\n",
            "+-----------+--------+------+----+---+---+-----+-----+------+----+-----+--------+\n",
            "\n"
          ]
        }
      ]
    },
    {
      "cell_type": "code",
      "source": [
        "#Survival Rate by Gender\n",
        "\n",
        "df.groupBy(\"Sex\", \"Survived\").count().orderBy(\"Sex\", \"Survived\").show()"
      ],
      "metadata": {
        "colab": {
          "base_uri": "https://localhost:8080/"
        },
        "id": "PGtFRFOx-LJB",
        "outputId": "404e937f-53a6-43a3-cd60-17fa715ec144"
      },
      "execution_count": null,
      "outputs": [
        {
          "output_type": "stream",
          "name": "stdout",
          "text": [
            "+------+--------+-----+\n",
            "|   Sex|Survived|count|\n",
            "+------+--------+-----+\n",
            "|female|       0|   81|\n",
            "|female|       1|  233|\n",
            "|  male|       0|  468|\n",
            "|  male|       1|  109|\n",
            "+------+--------+-----+\n",
            "\n"
          ]
        }
      ]
    },
    {
      "cell_type": "code",
      "source": [
        "#Average Age and Fare by Class\n",
        "\n",
        "df.groupBy(\"Pclass\").agg({\"Age\": \"avg\", \"Fare\": \"avg\"}).show()"
      ],
      "metadata": {
        "colab": {
          "base_uri": "https://localhost:8080/"
        },
        "id": "qP8Iof9t-Our",
        "outputId": "e17f96d1-9ceb-4b61-b4d4-407a7e2ea639"
      },
      "execution_count": null,
      "outputs": [
        {
          "output_type": "stream",
          "name": "stdout",
          "text": [
            "+------+------------------+------------------+\n",
            "|Pclass|          avg(Age)|         avg(Fare)|\n",
            "+------+------------------+------------------+\n",
            "|     1|38.233440860215055| 84.15468749999992|\n",
            "|     3| 25.14061971830986|13.675550101832997|\n",
            "|     2| 29.87763005780347| 20.66218315217391|\n",
            "+------+------------------+------------------+\n",
            "\n"
          ]
        }
      ]
    },
    {
      "cell_type": "code",
      "source": [
        "#Filter Elderly Survivors (Age > 60 and Survived)\n",
        "\n",
        "df.filter((col(\"Age\") > 60) & (col(\"Survived\") == 1)).select(\"Name\", \"Age\", \"Sex\", \"Pclass\").show()"
      ],
      "metadata": {
        "colab": {
          "base_uri": "https://localhost:8080/"
        },
        "id": "9rr9HP2C-ShH",
        "outputId": "c6a48427-2839-4fdc-f27e-4cb4f34807a1"
      },
      "execution_count": null,
      "outputs": [
        {
          "output_type": "stream",
          "name": "stdout",
          "text": [
            "+--------------------+----+------+------+\n",
            "|                Name| Age|   Sex|Pclass|\n",
            "+--------------------+----+------+------+\n",
            "|Andrews, Miss. Ko...|63.0|female|     1|\n",
            "|Turkula, Mrs. (He...|63.0|female|     3|\n",
            "|  Harris, Mr. George|62.0|  male|     2|\n",
            "|Barkworth, Mr. Al...|80.0|  male|     1|\n",
            "|Stone, Mrs. Georg...|62.0|female|     1|\n",
            "+--------------------+----+------+------+\n",
            "\n"
          ]
        }
      ]
    },
    {
      "cell_type": "code",
      "source": [
        "# Feature Engineering – Create Family Size Column\n",
        "\n",
        "df = df.withColumn(\"FamilySize\", col(\"SibSp\") + col(\"Parch\") + 1)\n",
        "df.select(\"Name\", \"FamilySize\").show(5)"
      ],
      "metadata": {
        "colab": {
          "base_uri": "https://localhost:8080/"
        },
        "id": "BoZy708j-WYr",
        "outputId": "457784c9-00fc-4712-f08a-442e0b0d9176"
      },
      "execution_count": null,
      "outputs": [
        {
          "output_type": "stream",
          "name": "stdout",
          "text": [
            "+--------------------+----------+\n",
            "|                Name|FamilySize|\n",
            "+--------------------+----------+\n",
            "|Braund, Mr. Owen ...|         2|\n",
            "|Cumings, Mrs. Joh...|         2|\n",
            "|Heikkinen, Miss. ...|         1|\n",
            "|Futrelle, Mrs. Ja...|         2|\n",
            "|Allen, Mr. Willia...|         1|\n",
            "+--------------------+----------+\n",
            "only showing top 5 rows\n",
            "\n"
          ]
        }
      ]
    },
    {
      "cell_type": "code",
      "source": [
        "#Visualization\n",
        "\n",
        "import pandas as pd\n",
        "import matplotlib.pyplot as plt\n",
        "\n",
        "pandas_df = df.select(\"Survived\", \"Sex\", \"Pclass\", \"Age\", \"Fare\", \"FamilySize\").toPandas()\n",
        "\n",
        "# Plot survival count by gender\n",
        "pandas_df.groupby([\"Sex\", \"Survived\"]).size().unstack().plot(kind=\"bar\", stacked=True)\n",
        "plt.title(\"Survival by Gender\")\n",
        "plt.ylabel(\"Count\")\n",
        "plt.show()\n",
        "\n",
        "# Plot histogram of Age\n",
        "pandas_df[\"Age\"].hist(bins=20)\n",
        "plt.title(\"Age Distribution\")\n",
        "plt.xlabel(\"Age\")\n",
        "plt.ylabel(\"Count\")\n",
        "plt.show()"
      ],
      "metadata": {
        "colab": {
          "base_uri": "https://localhost:8080/",
          "height": 961
        },
        "id": "d1SwQVOw-bVz",
        "outputId": "a5905c3f-b280-42c4-9374-dabaee58becf"
      },
      "execution_count": null,
      "outputs": [
        {
          "output_type": "display_data",
          "data": {
            "text/plain": [
              "<Figure size 640x480 with 1 Axes>"
            ],
            "image/png": "[encoded data removed]"
          },
          "metadata": {}
        },
        {
          "output_type": "display_data",
          "data": {
            "text/plain": [
              "<Figure size 640x480 with 1 Axes>"
            ],
            "image/png": "[encoded data removed]"
          },
          "metadata": {}
        }
      ]
    },
    {
      "cell_type": "code",
      "source": [
        "#Distribution of Passenger Classes\n",
        "\n",
        "df.groupBy(\"Pclass\").count().orderBy(\"Pclass\").show()"
      ],
      "metadata": {
        "colab": {
          "base_uri": "https://localhost:8080/"
        },
        "id": "0iyylfsF-qCD",
        "outputId": "5ed465c6-af29-4d91-c001-456ca51fc5bc"
      },
      "execution_count": null,
      "outputs": [
        {
          "output_type": "stream",
          "name": "stdout",
          "text": [
            "+------+-----+\n",
            "|Pclass|count|\n",
            "+------+-----+\n",
            "|     1|  216|\n",
            "|     2|  184|\n",
            "|     3|  491|\n",
            "+------+-----+\n",
            "\n"
          ]
        }
      ]
    },
    {
      "cell_type": "code",
      "source": [
        "#Survival Rate by Class\n",
        "\n",
        "df.groupBy(\"Pclass\").agg({\"Survived\": \"avg\"}).withColumnRenamed(\"avg(Survived)\", \"SurvivalRate\").show()"
      ],
      "metadata": {
        "colab": {
          "base_uri": "https://localhost:8080/"
        },
        "id": "mcVyQ2Sy-sfE",
        "outputId": "369c9592-0864-4a83-abee-081694dc6b58"
      },
      "execution_count": null,
      "outputs": [
        {
          "output_type": "stream",
          "name": "stdout",
          "text": [
            "+------+-------------------+\n",
            "|Pclass|       SurvivalRate|\n",
            "+------+-------------------+\n",
            "|     1| 0.6296296296296297|\n",
            "|     3|0.24236252545824846|\n",
            "|     2|0.47282608695652173|\n",
            "+------+-------------------+\n",
            "\n"
          ]
        }
      ]
    },
    {
      "cell_type": "code",
      "source": [
        "#Survival Rate by Embarked Port\n",
        "\n",
        "df.groupBy(\"Embarked\").agg({\"Survived\": \"avg\"}).withColumnRenamed(\"avg(Survived)\", \"SurvivalRate\").show()"
      ],
      "metadata": {
        "colab": {
          "base_uri": "https://localhost:8080/"
        },
        "id": "EzzHGodu-zaP",
        "outputId": "64d24c86-3082-4e32-9237-d0f394a6bca3"
      },
      "execution_count": null,
      "outputs": [
        {
          "output_type": "stream",
          "name": "stdout",
          "text": [
            "+--------+-------------------+\n",
            "|Embarked|       SurvivalRate|\n",
            "+--------+-------------------+\n",
            "|       Q|0.38961038961038963|\n",
            "|    NULL|                1.0|\n",
            "|       C| 0.5535714285714286|\n",
            "|       S|0.33695652173913043|\n",
            "+--------+-------------------+\n",
            "\n"
          ]
        }
      ]
    },
    {
      "cell_type": "code",
      "source": [
        "#Distribution of Fares (by Class)\n",
        "\n",
        "df.groupBy(\"Pclass\").agg({\"Fare\": \"avg\", \"Fare\": \"max\", \"Fare\": \"min\"}).show()\n"
      ],
      "metadata": {
        "colab": {
          "base_uri": "https://localhost:8080/"
        },
        "id": "iaRn2d33-19U",
        "outputId": "7ef74e3e-dca4-4dbf-b696-373d13349d82"
      },
      "execution_count": null,
      "outputs": [
        {
          "output_type": "stream",
          "name": "stdout",
          "text": [
            "+------+---------+\n",
            "|Pclass|min(Fare)|\n",
            "+------+---------+\n",
            "|     1|      0.0|\n",
            "|     3|      0.0|\n",
            "|     2|      0.0|\n",
            "+------+---------+\n",
            "\n"
          ]
        }
      ]
    },
    {
      "cell_type": "code",
      "source": [
        "#Age Grouping\n",
        "\n",
        "from pyspark.sql.functions import when\n",
        "\n",
        "df = df.withColumn(\"AgeGroup\", when(col(\"Age\") < 13, \"Child\")\n",
        "                               .when((col(\"Age\") >= 13) & (col(\"Age\") < 20), \"Teen\")\n",
        "                               .when((col(\"Age\") >= 20) & (col(\"Age\") < 60), \"Adult\")\n",
        "                               .when(col(\"Age\") >= 60, \"Senior\")\n",
        "                               .otherwise(\"Unknown\"))\n",
        "df.select(\"Name\", \"Age\", \"AgeGroup\").show(5)"
      ],
      "metadata": {
        "colab": {
          "base_uri": "https://localhost:8080/"
        },
        "id": "yxjVO9EM-4nj",
        "outputId": "9316d7db-4bd1-439d-9691-9dd51def6c6f"
      },
      "execution_count": null,
      "outputs": [
        {
          "output_type": "stream",
          "name": "stdout",
          "text": [
            "+--------------------+----+--------+\n",
            "|                Name| Age|AgeGroup|\n",
            "+--------------------+----+--------+\n",
            "|Braund, Mr. Owen ...|22.0|   Adult|\n",
            "|Cumings, Mrs. Joh...|38.0|   Adult|\n",
            "|Heikkinen, Miss. ...|26.0|   Adult|\n",
            "|Futrelle, Mrs. Ja...|35.0|   Adult|\n",
            "|Allen, Mr. Willia...|35.0|   Adult|\n",
            "+--------------------+----+--------+\n",
            "only showing top 5 rows\n",
            "\n"
          ]
        }
      ]
    },
    {
      "cell_type": "code",
      "source": [
        "#Survival Rate by Age Group\n",
        "\n",
        "df.groupBy(\"AgeGroup\").agg({\"Survived\": \"avg\"}).withColumnRenamed(\"avg(Survived)\", \"SurvivalRate\").show()"
      ],
      "metadata": {
        "colab": {
          "base_uri": "https://localhost:8080/"
        },
        "id": "H8FjnelP-9QL",
        "outputId": "b61c0ac7-0a95-4b12-82f7-8a65ec4105b9"
      },
      "execution_count": null,
      "outputs": [
        {
          "output_type": "stream",
          "name": "stdout",
          "text": [
            "+--------+------------------+\n",
            "|AgeGroup|      SurvivalRate|\n",
            "+--------+------------------+\n",
            "|  Senior|0.2692307692307692|\n",
            "|    Teen|0.4105263157894737|\n",
            "| Unknown|0.2937853107344633|\n",
            "|   Adult|0.3893129770992366|\n",
            "|   Child|0.5797101449275363|\n",
            "+--------+------------------+\n",
            "\n"
          ]
        }
      ]
    },
    {
      "cell_type": "code",
      "source": [
        "from pyspark.sql.functions import when\n",
        "\n",
        "df = df.withColumn(\"AgeGroup\", when(col(\"Age\") < 13, \"Child\")\n",
        "                               .when((col(\"Age\") >= 13) & (col(\"Age\") < 20), \"Teen\")\n",
        "                               .when((col(\"Age\") >= 20) & (col(\"Age\") < 60), \"Adult\")\n",
        "                               .when(col(\"Age\") >= 60, \"Senior\")\n",
        "                               .otherwise(\"Unknown\"))"
      ],
      "metadata": {
        "id": "_LgwL_vo_7Dk"
      },
      "execution_count": null,
      "outputs": []
    },
    {
      "cell_type": "code",
      "source": [
        "pandas_df = df.select(\"Survived\", \"Sex\", \"Pclass\", \"Age\", \"Fare\", \"FamilySize\", \"AgeGroup\").toPandas()"
      ],
      "metadata": {
        "id": "i6S_nwCB_9mW"
      },
      "execution_count": null,
      "outputs": []
    },
    {
      "cell_type": "code",
      "source": [
        "# Survival rate by age group\n",
        "pandas_df.groupby(\"AgeGroup\")[\"Survived\"].mean().plot(kind=\"bar\", color=\"green\")\n",
        "plt.title(\"Survival Rate by Age Group\")\n",
        "plt.ylabel(\"Survival Rate\")\n",
        "plt.show()\n",
        "\n",
        "# Family size vs survival\n",
        "pandas_df.groupby(\"FamilySize\")[\"Survived\"].mean().plot(marker='o')\n",
        "plt.title(\"Survival vs Family Size\")\n",
        "plt.ylabel(\"Survival Rate\")\n",
        "plt.xlabel(\"Family Size\")\n",
        "plt.grid()\n",
        "plt.show()"
      ],
      "metadata": {
        "colab": {
          "base_uri": "https://localhost:8080/",
          "height": 977
        },
        "id": "PGfxguzM_Cax",
        "outputId": "62438364-bce3-4668-fc15-d554a71c5ef9"
      },
      "execution_count": null,
      "outputs": [
        {
          "output_type": "display_data",
          "data": {
            "text/plain": [
              "<Figure size 640x480 with 1 Axes>"
            ],
            "image/png": "[encoded data removed]"
          },
          "metadata": {}
        },
        {
          "output_type": "display_data",
          "data": {
            "text/plain": [
              "<Figure size 640x480 with 1 Axes>"
            ],
            "image/png": "[encoded data removed]"
          },
          "metadata": {}
        }
      ]
    }
  ]
}